{
 "cells": [
  {
   "cell_type": "code",
   "execution_count": 2,
   "metadata": {},
   "outputs": [],
   "source": [
    "from resecore import DG"
   ]
  },
  {
   "cell_type": "code",
   "execution_count": 7,
   "metadata": {},
   "outputs": [],
   "source": [
    "atmosphere = DG.Reservoir('Atmosphere', \n",
    "                          DG.Element('carbon',\n",
    "                                     {'t_0': 0, 't_cc0': 0.5, 'tau_acc': 1, 'tau_am': 0.02, 'cMa_tp': 8.5e2},\n",
    "                                     1.57e8\n",
    "                                    )\n",
    "                         )"
   ]
  },
  {
   "cell_type": "code",
   "execution_count": 9,
   "metadata": {},
   "outputs": [],
   "source": [
    "continentalCrust = DG.Reservoir('Continental Crust', \n",
    "                                DG.Element('carbon',\n",
    "                                           {'t_0': 0, 't_cc0': 0.5, 'tau_acc': 1, 'cMcc_tp': 4.2e7},\n",
    "                                           0                                          \n",
    "                                          )\n",
    "                               )"
   ]
  },
  {
   "cell_type": "code",
   "execution_count": 10,
   "metadata": {},
   "outputs": [],
   "source": [
    "mantle = DG.Reservoir('Mantle', \n",
    "                      DG.Element('carbon',\n",
    "                                 {'t_0': 0, 'tau_am': 0.02, 'cMm_tp': 2e8},\n",
    "                                 85000850\n",
    "                                )\n",
    "                     )"
   ]
  },
  {
   "cell_type": "code",
   "execution_count": null,
   "metadata": {},
   "outputs": [],
   "source": []
  }
 ],
 "metadata": {
  "kernelspec": {
   "display_name": "Python 3",
   "language": "python",
   "name": "python3"
  },
  "language_info": {
   "codemirror_mode": {
    "name": "ipython",
    "version": 3
   },
   "file_extension": ".py",
   "mimetype": "text/x-python",
   "name": "python",
   "nbconvert_exporter": "python",
   "pygments_lexer": "ipython3",
   "version": "3.5.2"
  }
 },
 "nbformat": 4,
 "nbformat_minor": 2
}
